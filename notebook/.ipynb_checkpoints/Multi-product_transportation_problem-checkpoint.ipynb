{
 "cells": [
  {
   "cell_type": "markdown",
   "metadata": {},
   "source": [
    "## 多品種輸送問題"
   ]
  },
  {
   "cell_type": "code",
   "execution_count": 1,
   "metadata": {},
   "outputs": [],
   "source": [
    "import numpy as np\n",
    "import pandas as pd\n",
    "from mypulp import *"
   ]
  },
  {
   "cell_type": "code",
   "execution_count": 2,
   "metadata": {},
   "outputs": [],
   "source": [
    "def mctransp(I, J, K, c, d, M):\n",
    "    \"\"\"多品種輸送問題\n",
    "    \n",
    "    Arg:\n",
    "        I(set)  : 顧客番号\n",
    "        J(list) : 工場番号\n",
    "        K(list) : 製品番号\n",
    "        c(dict) : Key:(顧客番号,工場番号,製品番号), Value:輸送費\n",
    "        d(dict) : Key:(顧客番号,製品番号), Value:需要量\n",
    "        M(dict) : Key:工場番号, Value:生産容量\n",
    "        \n",
    "    Returns:\n",
    "        a model, ready to be solved.\n",
    "    \"\"\"\n",
    "    # モデルの定義\n",
    "    model = Model(name = \"../notebook/Multi-product_transportation_problem\")\n",
    "\n",
    "    # 変数を格納する辞書xを作成\n",
    "    # 変数は輸送費用を表す辞書cのキーが存在する場合にだけ生成\n",
    "    x = {}\n",
    "    for i,j,k in c:\n",
    "        x[i,j,k] = model.addVar(vtype=\"C\")\n",
    "    model.update()\n",
    "\n",
    "    arcs = tuplelist([(i,j,k) for (i,j,k) in x])\n",
    "\n",
    "    # 顧客の需要制約\n",
    "    for i in I:\n",
    "        for k in K:\n",
    "            model.addConstr(quicksum(x[i,j,k] for (i,j,k) in arcs.select(i,\"*\",k)) == d[i,k])\n",
    "\n",
    "    # 工場の容量制約\n",
    "    for j in J:\n",
    "        model.addConstr(quicksum(x[i,j,k] for (i,j,k) in arcs.select(\"*\",j,\"*\")) <= M[j])\n",
    "\n",
    "    # 目的関数\n",
    "    model.setObjective(quicksum(c[i,j,k]*x[i,j,k]  for (i,j,k) in x), GRB.MINIMIZE)\n",
    "\n",
    "    model.update()\n",
    "    model.__data = x\n",
    "    return model"
   ]
  },
  {
   "cell_type": "code",
   "execution_count": 3,
   "metadata": {},
   "outputs": [],
   "source": [
    "def get_data():\n",
    "    \"\"\"インプットデータ取得\n",
    "    \n",
    "    Return:\n",
    "        I(set)  : 顧客番号\n",
    "        J(list) : 工場番号\n",
    "        K(list) : 製品番号\n",
    "        c(dict) : Key:(顧客番号,工場番号,製品番号), Value:輸送費\n",
    "        d(dict) : Key:(顧客番号,製品番号), Value:需要量\n",
    "        M(dict) : Key:工場番号, Value:生産容量\n",
    "    \"\"\"\n",
    "    # 工場で製造可能な製品を抽出\n",
    "    df_p = pd.read_csv('../constraints/Multi-product_transportation_problem/produce.csv')\n",
    "    # DataFrameをdictへ変換\n",
    "    produce = df_p.set_index('factory').T.to_dict('list') \n",
    "    # Nanを削除\n",
    "    for key in produce.keys():\n",
    "        produce[key] = {x for x in produce[key] if x==x}\n",
    "    \n",
    "    # 顧客と商品の需要量を抽出\n",
    "    df_d = pd.read_csv('../constraints/Multi-product_transportation_problem/demand.csv')\n",
    "    # 顧客番号と製品番号のタプル（組）を作成\n",
    "    D = list(zip(df_d[df_d.columns[0]], df_d[df_d.columns[1]]))\n",
    "    # 顧客番号と製品番号のタプル（組）をキーとし、需要量を値とする辞書を作成\n",
    "    d = dict(zip(D, df_d[df_d.columns[2]]))\n",
    "    \n",
    "    # 顧客番号Iを生成\n",
    "    I = set([i for (i,k) in d])\n",
    "    # 工場の番号リストJと生産容量Mをmultidictを用いて作成\n",
    "    J, M = multidict({1:3000, 2:3000, 3:3000})\n",
    "    # 製品番号リストKと重量weightをmultidictを用いて作成\n",
    "    K, weight = multidict({1:5, 2:2, 3:3, 4:4})\n",
    "    \n",
    "    # 顧客と商品の輸送費用を抽出\n",
    "    df_c = pd.read_csv('../constraints/Multi-product_transportation_problem/cost.csv')\n",
    "    # 顧客番号と製品番号のタプル（組）を作成\n",
    "    C = list(zip(df_c[df_c.columns[0]], df_c[df_c.columns[1]]))\n",
    "    # 顧客番号と製品番号のタプル（組）をキーとし、輸送費用を値とする辞書を作成\n",
    "    cost = dict(zip(C, df_c[df_c.columns[2]]))\n",
    "    \n",
    "    # weightとcostから製品毎の輸送費用を計算し、辞書cに保管\n",
    "    c = {}\n",
    "    for i in I:\n",
    "        for j in J:\n",
    "            for k in produce[j]:\n",
    "                c[i, j, k] = cost[i, j] * weight[k]\n",
    "\n",
    "    return I, J, K, c, d, M"
   ]
  },
  {
   "cell_type": "code",
   "execution_count": 4,
   "metadata": {},
   "outputs": [
    {
     "name": "stdout",
     "output_type": "stream",
     "text": [
      "Opt value: 43536.0\n"
     ]
    }
   ],
   "source": [
    "if __name__ == \"__main__\":\n",
    "    I, J, K, c, d, M = get_data()\n",
    "    model = mctransp(I, J, K, c, d, M)\n",
    "    # 最適化の実行\n",
    "    model.optimize()\n",
    "    print(\"Opt value:\", model.ObjVal)"
   ]
  },
  {
   "cell_type": "code",
   "execution_count": 5,
   "metadata": {},
   "outputs": [],
   "source": [
    "# 各変数の確認\n",
    "# produce = {1:[2,4], 2:[1,2,3], 3:[2,3,4]}\n",
    "# d = {(1,1):80,   (1,2):85,   (1,3):300, (1,4):6,\n",
    "#      (2,1):270,  (2,2):160,  (2,3):400, (2,4):7,\n",
    "#      (3,1):250,  (3,2):130,  (3,3):350, (3,4):4,\n",
    "#      (4,1):160,  (4,2):60,   (4,3):200, (4,4):3,\n",
    "#      (5,1):180,  (5,2):40,   (5,3):150, (5,4):5\n",
    "#     }\n",
    "# I = {1, 2, 3, 4, 5}\n",
    "# J = [1, 2, 3]\n",
    "# M = {1:3000, 2:3000, 3:3000}\n",
    "# K = [1, 2, 3, 4]\n",
    "# weight = {1:5, 2:2, 3:3, 4:4}\n",
    "# cost = {(1,1):4,  (1,2):6,  (1,3):9,\n",
    "#         (2,1):5,  (2,2):4,  (2,3):7,\n",
    "#         (3,1):6,  (3,2):3,  (3,3):4,\n",
    "#         (4,1):8,  (4,2):5,  (4,3):3,\n",
    "#         (5,1):10, (5,2):8,  (5,3):4,\n",
    "#        }"
   ]
  },
  {
   "cell_type": "code",
   "execution_count": null,
   "metadata": {},
   "outputs": [],
   "source": []
  }
 ],
 "metadata": {
  "kernelspec": {
   "display_name": "Python 3",
   "language": "python",
   "name": "python3"
  },
  "language_info": {
   "codemirror_mode": {
    "name": "ipython",
    "version": 3
   },
   "file_extension": ".py",
   "mimetype": "text/x-python",
   "name": "python",
   "nbconvert_exporter": "python",
   "pygments_lexer": "ipython3",
   "version": "3.7.6"
  }
 },
 "nbformat": 4,
 "nbformat_minor": 4
}
