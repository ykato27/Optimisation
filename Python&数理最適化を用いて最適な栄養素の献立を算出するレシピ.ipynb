{
  "nbformat": 4,
  "nbformat_minor": 0,
  "metadata": {
    "colab": {
      "name": "Python&数理最適化を用いて最適な栄養素の献立を算出するレシピ.ipynb",
      "provenance": [],
      "collapsed_sections": [],
      "authorship_tag": "ABX9TyN1uOW7siLWRbatuT7CEsB8",
      "include_colab_link": true
    },
    "kernelspec": {
      "name": "python3",
      "display_name": "Python 3"
    },
    "language_info": {
      "name": "python"
    }
  },
  "cells": [
    {
      "cell_type": "markdown",
      "metadata": {
        "id": "view-in-github",
        "colab_type": "text"
      },
      "source": [
        "<a href=\"https://colab.research.google.com/github/ykato27/Optimization/blob/main/Python%26%E6%95%B0%E7%90%86%E6%9C%80%E9%81%A9%E5%8C%96%E3%82%92%E7%94%A8%E3%81%84%E3%81%A6%E6%9C%80%E9%81%A9%E3%81%AA%E6%A0%84%E9%A4%8A%E7%B4%A0%E3%81%AE%E7%8C%AE%E7%AB%8B%E3%82%92%E7%AE%97%E5%87%BA%E3%81%99%E3%82%8B%E3%83%AC%E3%82%B7%E3%83%94.ipynb\" target=\"_parent\"><img src=\"https://colab.research.google.com/assets/colab-badge.svg\" alt=\"Open In Colab\"/></a>"
      ]
    },
    {
      "cell_type": "code",
      "metadata": {
        "colab": {
          "base_uri": "https://localhost:8080/"
        },
        "id": "RgbdnNswWKT2",
        "outputId": "09b8fb23-4aa4-4ffa-dbb2-9373ee0576af"
      },
      "source": [
        "!pip install pulp"
      ],
      "execution_count": 1,
      "outputs": [
        {
          "output_type": "stream",
          "text": [
            "Requirement already satisfied: pulp in /usr/local/lib/python3.7/dist-packages (2.5.0)\n"
          ],
          "name": "stdout"
        }
      ]
    },
    {
      "cell_type": "code",
      "metadata": {
        "colab": {
          "base_uri": "https://localhost:8080/"
        },
        "id": "66Bltt7WV7KM",
        "outputId": "e8f5b482-351e-4cc6-c387-d8f71cb630b1"
      },
      "source": [
        "from pulp import *\n",
        "\n",
        "problem = LpProblem('simple_problem', LpMaximize)\n",
        "x = LpVariable('x')\n",
        "y = LpVariable('y')\n",
        "\n",
        "problem += x + y\n",
        "\n",
        "problem += -4*x + 12 >= y\n",
        "problem += -1/2*x+4 >= y\n",
        "\n",
        "status = problem.solve()\n",
        "print(LpStatus[status])\n",
        "\n",
        "print(\"x:\",x.value())\n",
        "print(\"y:\",y.value())"
      ],
      "execution_count": 2,
      "outputs": [
        {
          "output_type": "stream",
          "text": [
            "Optimal\n",
            "x: 2.2857143\n",
            "y: 2.8571429\n"
          ],
          "name": "stdout"
        }
      ]
    },
    {
      "cell_type": "markdown",
      "metadata": {
        "id": "kujB_zrhYX4h"
      },
      "source": [
        "#### 主婦問題を解く"
      ]
    },
    {
      "cell_type": "code",
      "metadata": {
        "colab": {
          "base_uri": "https://localhost:8080/",
          "height": 487
        },
        "id": "CIfoext7YECM",
        "outputId": "11a3b7d7-7eca-4e53-9ea6-d2e090fe3a54"
      },
      "source": [
        "import pandas as pd\n",
        "dffoods = pd.read_csv(\"https://api.axross-recipe.com/attachments/3216/url\")\n",
        "dffoods"
      ],
      "execution_count": 3,
      "outputs": [
        {
          "output_type": "execute_result",
          "data": {
            "text/html": [
              "<div>\n",
              "<style scoped>\n",
              "    .dataframe tbody tr th:only-of-type {\n",
              "        vertical-align: middle;\n",
              "    }\n",
              "\n",
              "    .dataframe tbody tr th {\n",
              "        vertical-align: top;\n",
              "    }\n",
              "\n",
              "    .dataframe thead th {\n",
              "        text-align: right;\n",
              "    }\n",
              "</style>\n",
              "<table border=\"1\" class=\"dataframe\">\n",
              "  <thead>\n",
              "    <tr style=\"text-align: right;\">\n",
              "      <th></th>\n",
              "      <th>food</th>\n",
              "      <th>Calories</th>\n",
              "      <th>Protein</th>\n",
              "      <th>Calcium</th>\n",
              "      <th>Iron</th>\n",
              "      <th>Vitamin A</th>\n",
              "      <th>Thiamine (Vitamin B1)</th>\n",
              "      <th>Riboflavin (Vitamin B2)</th>\n",
              "      <th>Niacin</th>\n",
              "      <th>Ascorbic Acid (Vitamin C)</th>\n",
              "    </tr>\n",
              "  </thead>\n",
              "  <tbody>\n",
              "    <tr>\n",
              "      <th>0</th>\n",
              "      <td>Wheat Flour (Enriched)</td>\n",
              "      <td>44.7</td>\n",
              "      <td>1411</td>\n",
              "      <td>2.0</td>\n",
              "      <td>365</td>\n",
              "      <td>0.0</td>\n",
              "      <td>55.4</td>\n",
              "      <td>33.3</td>\n",
              "      <td>441</td>\n",
              "      <td>0</td>\n",
              "    </tr>\n",
              "    <tr>\n",
              "      <th>1</th>\n",
              "      <td>Macaroni</td>\n",
              "      <td>11.6</td>\n",
              "      <td>418</td>\n",
              "      <td>0.7</td>\n",
              "      <td>54</td>\n",
              "      <td>0.0</td>\n",
              "      <td>3.2</td>\n",
              "      <td>1.9</td>\n",
              "      <td>68</td>\n",
              "      <td>0</td>\n",
              "    </tr>\n",
              "    <tr>\n",
              "      <th>2</th>\n",
              "      <td>Wheat Cereal (Enriched)</td>\n",
              "      <td>11.8</td>\n",
              "      <td>377</td>\n",
              "      <td>14.4</td>\n",
              "      <td>175</td>\n",
              "      <td>0.0</td>\n",
              "      <td>14.4</td>\n",
              "      <td>8.8</td>\n",
              "      <td>114</td>\n",
              "      <td>0</td>\n",
              "    </tr>\n",
              "    <tr>\n",
              "      <th>3</th>\n",
              "      <td>Corn Flakes</td>\n",
              "      <td>11.4</td>\n",
              "      <td>252</td>\n",
              "      <td>0.1</td>\n",
              "      <td>56</td>\n",
              "      <td>0.0</td>\n",
              "      <td>13.5</td>\n",
              "      <td>2.3</td>\n",
              "      <td>68</td>\n",
              "      <td>0</td>\n",
              "    </tr>\n",
              "    <tr>\n",
              "      <th>4</th>\n",
              "      <td>Corn Meal</td>\n",
              "      <td>36.0</td>\n",
              "      <td>897</td>\n",
              "      <td>1.7</td>\n",
              "      <td>99</td>\n",
              "      <td>30.9</td>\n",
              "      <td>17.4</td>\n",
              "      <td>7.9</td>\n",
              "      <td>106</td>\n",
              "      <td>0</td>\n",
              "    </tr>\n",
              "    <tr>\n",
              "      <th>...</th>\n",
              "      <td>...</td>\n",
              "      <td>...</td>\n",
              "      <td>...</td>\n",
              "      <td>...</td>\n",
              "      <td>...</td>\n",
              "      <td>...</td>\n",
              "      <td>...</td>\n",
              "      <td>...</td>\n",
              "      <td>...</td>\n",
              "      <td>...</td>\n",
              "    </tr>\n",
              "    <tr>\n",
              "      <th>72</th>\n",
              "      <td>Chocolate</td>\n",
              "      <td>8.0</td>\n",
              "      <td>77</td>\n",
              "      <td>1.3</td>\n",
              "      <td>39</td>\n",
              "      <td>0.0</td>\n",
              "      <td>0.9</td>\n",
              "      <td>3.4</td>\n",
              "      <td>14</td>\n",
              "      <td>0</td>\n",
              "    </tr>\n",
              "    <tr>\n",
              "      <th>73</th>\n",
              "      <td>Sugar</td>\n",
              "      <td>34.9</td>\n",
              "      <td>0</td>\n",
              "      <td>0.0</td>\n",
              "      <td>0</td>\n",
              "      <td>0.0</td>\n",
              "      <td>0.0</td>\n",
              "      <td>0.0</td>\n",
              "      <td>0</td>\n",
              "      <td>0</td>\n",
              "    </tr>\n",
              "    <tr>\n",
              "      <th>74</th>\n",
              "      <td>Corn Syrup</td>\n",
              "      <td>14.7</td>\n",
              "      <td>0</td>\n",
              "      <td>0.5</td>\n",
              "      <td>74</td>\n",
              "      <td>0.0</td>\n",
              "      <td>0.0</td>\n",
              "      <td>0.0</td>\n",
              "      <td>5</td>\n",
              "      <td>0</td>\n",
              "    </tr>\n",
              "    <tr>\n",
              "      <th>75</th>\n",
              "      <td>Molasses</td>\n",
              "      <td>9.0</td>\n",
              "      <td>0</td>\n",
              "      <td>10.3</td>\n",
              "      <td>244</td>\n",
              "      <td>0.0</td>\n",
              "      <td>1.9</td>\n",
              "      <td>7.5</td>\n",
              "      <td>146</td>\n",
              "      <td>0</td>\n",
              "    </tr>\n",
              "    <tr>\n",
              "      <th>76</th>\n",
              "      <td>Strawberry Preserves</td>\n",
              "      <td>6.4</td>\n",
              "      <td>11</td>\n",
              "      <td>0.4</td>\n",
              "      <td>7</td>\n",
              "      <td>0.2</td>\n",
              "      <td>0.2</td>\n",
              "      <td>0.4</td>\n",
              "      <td>3</td>\n",
              "      <td>0</td>\n",
              "    </tr>\n",
              "  </tbody>\n",
              "</table>\n",
              "<p>77 rows × 10 columns</p>\n",
              "</div>"
            ],
            "text/plain": [
              "                       food  Calories  ...  Niacin  Ascorbic Acid (Vitamin C)\n",
              "0    Wheat Flour (Enriched)      44.7  ...     441                          0\n",
              "1                  Macaroni      11.6  ...      68                          0\n",
              "2   Wheat Cereal (Enriched)      11.8  ...     114                          0\n",
              "3               Corn Flakes      11.4  ...      68                          0\n",
              "4                 Corn Meal      36.0  ...     106                          0\n",
              "..                      ...       ...  ...     ...                        ...\n",
              "72                Chocolate       8.0  ...      14                          0\n",
              "73                    Sugar      34.9  ...       0                          0\n",
              "74               Corn Syrup      14.7  ...       5                          0\n",
              "75                 Molasses       9.0  ...     146                          0\n",
              "76     Strawberry Preserves       6.4  ...       3                          0\n",
              "\n",
              "[77 rows x 10 columns]"
            ]
          },
          "metadata": {
            "tags": []
          },
          "execution_count": 3
        }
      ]
    },
    {
      "cell_type": "code",
      "metadata": {
        "colab": {
          "base_uri": "https://localhost:8080/",
          "height": 328
        },
        "id": "-PnxVANGYM-c",
        "outputId": "5177542d-547e-4343-e39c-85e5b8db5fcd"
      },
      "source": [
        "dfnutrient_lowerlimit = pd.read_csv(\"https://api.axross-recipe.com/attachments/3217/url\")\n",
        "dfnutrient_lowerlimit"
      ],
      "execution_count": 4,
      "outputs": [
        {
          "output_type": "execute_result",
          "data": {
            "text/html": [
              "<div>\n",
              "<style scoped>\n",
              "    .dataframe tbody tr th:only-of-type {\n",
              "        vertical-align: middle;\n",
              "    }\n",
              "\n",
              "    .dataframe tbody tr th {\n",
              "        vertical-align: top;\n",
              "    }\n",
              "\n",
              "    .dataframe thead th {\n",
              "        text-align: right;\n",
              "    }\n",
              "</style>\n",
              "<table border=\"1\" class=\"dataframe\">\n",
              "  <thead>\n",
              "    <tr style=\"text-align: right;\">\n",
              "      <th></th>\n",
              "      <th>Nutrient</th>\n",
              "      <th>Intake</th>\n",
              "      <th>Unit</th>\n",
              "    </tr>\n",
              "  </thead>\n",
              "  <tbody>\n",
              "    <tr>\n",
              "      <th>0</th>\n",
              "      <td>Calories</td>\n",
              "      <td>3.0</td>\n",
              "      <td>kilocalories</td>\n",
              "    </tr>\n",
              "    <tr>\n",
              "      <th>1</th>\n",
              "      <td>Protein</td>\n",
              "      <td>70.0</td>\n",
              "      <td>grams</td>\n",
              "    </tr>\n",
              "    <tr>\n",
              "      <th>2</th>\n",
              "      <td>Calcium</td>\n",
              "      <td>0.8</td>\n",
              "      <td>grams</td>\n",
              "    </tr>\n",
              "    <tr>\n",
              "      <th>3</th>\n",
              "      <td>Iron</td>\n",
              "      <td>12.0</td>\n",
              "      <td>milligrams</td>\n",
              "    </tr>\n",
              "    <tr>\n",
              "      <th>4</th>\n",
              "      <td>Vitamin A</td>\n",
              "      <td>5.0</td>\n",
              "      <td>1000IU</td>\n",
              "    </tr>\n",
              "    <tr>\n",
              "      <th>5</th>\n",
              "      <td>Thiamine (Vitamin B1)</td>\n",
              "      <td>1.8</td>\n",
              "      <td>milligrams</td>\n",
              "    </tr>\n",
              "    <tr>\n",
              "      <th>6</th>\n",
              "      <td>Riboflavin (Vitamin B2)</td>\n",
              "      <td>2.7</td>\n",
              "      <td>milligrams</td>\n",
              "    </tr>\n",
              "    <tr>\n",
              "      <th>7</th>\n",
              "      <td>Niacin</td>\n",
              "      <td>18.0</td>\n",
              "      <td>milligrams</td>\n",
              "    </tr>\n",
              "    <tr>\n",
              "      <th>8</th>\n",
              "      <td>Ascorbic Acid (Vitamin C)</td>\n",
              "      <td>75.0</td>\n",
              "      <td>milligrams</td>\n",
              "    </tr>\n",
              "  </tbody>\n",
              "</table>\n",
              "</div>"
            ],
            "text/plain": [
              "                    Nutrient  Intake          Unit\n",
              "0                   Calories     3.0  kilocalories\n",
              "1                    Protein    70.0         grams\n",
              "2                    Calcium     0.8         grams\n",
              "3                       Iron    12.0    milligrams\n",
              "4                  Vitamin A     5.0        1000IU\n",
              "5      Thiamine (Vitamin B1)     1.8    milligrams\n",
              "6    Riboflavin (Vitamin B2)     2.7    milligrams\n",
              "7                     Niacin    18.0    milligrams\n",
              "8  Ascorbic Acid (Vitamin C)    75.0    milligrams"
            ]
          },
          "metadata": {
            "tags": []
          },
          "execution_count": 4
        }
      ]
    },
    {
      "cell_type": "code",
      "metadata": {
        "colab": {
          "base_uri": "https://localhost:8080/"
        },
        "id": "EFcw2aPsYTPO",
        "outputId": "005c7243-dc9e-4ae3-c658-c183be8e06f5"
      },
      "source": [
        "# 最小化問題なのでLpMinimizeを使います\n",
        "problem = LpProblem('Stiger Diet', LpMinimize)\n",
        "\n",
        "# food_amount、食料xに何ドル使うか？という変数のリストです。これから線形最適化を使い、これら変数の最適な値を算出することになります。\n",
        "# food_used[0]はWheat Flour, food_used[1]はMacaroni...という形で対応します。\n",
        "# また、必要ではないですが、lowBound=0を入れて、これら変数は必ず0以上であるという条件を追加しています。\n",
        "food_amount = [LpVariable('food_{0}'.format(i), lowBound=0) for i in range(len(dffoods))]\n",
        "\n",
        "# 目的関数を設定しています。lpSumは1つのリストの総和を求めるための関数です。（numpyのsumを使っても問題ないです。）\n",
        "# food_amountはその食料に何ドル使うか？の変数なので、単純に和をとれば食料費の総額になります。\n",
        "problem += lpSum(food_amount)"
      ],
      "execution_count": 5,
      "outputs": [
        {
          "output_type": "stream",
          "text": [
            "/usr/local/lib/python3.7/dist-packages/pulp/pulp.py:1316: UserWarning: Spaces are not permitted in the name. Converted to '_'\n",
            "  warnings.warn(\"Spaces are not permitted in the name. Converted to '_'\")\n"
          ],
          "name": "stderr"
        }
      ]
    },
    {
      "cell_type": "code",
      "metadata": {
        "id": "SiqbheZwYcKy"
      },
      "source": [
        "# 制約を設定しています。lpDotは2つのリストの内積を求める関数になっています。これで、購入総額が目的関数に設定されたことになります。\n",
        "for k,v in dfnutrient_lowerlimit.iterrows():\n",
        "    problem += lpDot(food_amount, dffoods[v.Nutrient]) >= v.Intake"
      ],
      "execution_count": 6,
      "outputs": []
    },
    {
      "cell_type": "code",
      "metadata": {
        "colab": {
          "base_uri": "https://localhost:8080/"
        },
        "id": "BF2gRXAXYeCc",
        "outputId": "d0652618-6135-4fcb-df0f-d60c54c8726c"
      },
      "source": [
        "#下記のコードは、10*1 + 20*5 + 30*10 = 410を返す\n",
        "ans = lpDot([10,20,30], [1,5,10])\n",
        "ans"
      ],
      "execution_count": 7,
      "outputs": [
        {
          "output_type": "execute_result",
          "data": {
            "text/plain": [
              "LpAffineExpression()"
            ]
          },
          "metadata": {
            "tags": []
          },
          "execution_count": 7
        }
      ]
    },
    {
      "cell_type": "code",
      "metadata": {
        "colab": {
          "base_uri": "https://localhost:8080/"
        },
        "id": "YXG6ilEvYfYV",
        "outputId": "29a87bd4-0553-43ae-bf4d-e6a94792661c"
      },
      "source": [
        "status = problem.solve()\n",
        "print(LpStatus[status])\n",
        "\n",
        "# 年間コストを算出するため、最適値に365を乗じていっています。\n",
        "annual_cost = 0\n",
        "for i, fa in enumerate(food_amount):\n",
        "    if fa.value() > 0:\n",
        "        print(\"{0} : ${1}\".format(dffoods.food[i], fa.value()))\n",
        "        annual_cost += 365 * fa.value()\n",
        "        \n",
        "print(\"上記がコスト最小となる最適な食材の組み合わせで、年間{0}ドルで済む\".format(annual_cost))"
      ],
      "execution_count": 8,
      "outputs": [
        {
          "output_type": "stream",
          "text": [
            "Optimal\n",
            "Wheat Flour (Enriched) : $0.029519062\n",
            "Liver (Beef) : $0.0018925573\n",
            "Cabbage : $0.011214435\n",
            "Spinach : $0.0050076605\n",
            "Navy Beans, Dried : $0.061028564\n",
            "上記がコスト最小となる最適な食材の組み合わせで、年間39.661731762ドルで済む\n"
          ],
          "name": "stdout"
        }
      ]
    },
    {
      "cell_type": "code",
      "metadata": {
        "id": "aEb7X0ixYjJo"
      },
      "source": [
        ""
      ],
      "execution_count": 8,
      "outputs": []
    }
  ]
}