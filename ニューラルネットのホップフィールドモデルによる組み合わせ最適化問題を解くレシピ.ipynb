{
  "nbformat": 4,
  "nbformat_minor": 0,
  "metadata": {
    "colab": {
      "name": "ニューラルネットのホップフィールドモデルによる組み合わせ最適化問題を解くレシピ.ipynb",
      "provenance": [],
      "collapsed_sections": [],
      "authorship_tag": "ABX9TyMFo84yV0epuT7yAvAUPG40",
      "include_colab_link": true
    },
    "kernelspec": {
      "name": "python3",
      "display_name": "Python 3"
    },
    "language_info": {
      "name": "python"
    }
  },
  "cells": [
    {
      "cell_type": "markdown",
      "metadata": {
        "id": "view-in-github",
        "colab_type": "text"
      },
      "source": [
        "<a href=\"https://colab.research.google.com/github/ykato27/Optimization/blob/main/%E3%83%8B%E3%83%A5%E3%83%BC%E3%83%A9%E3%83%AB%E3%83%8D%E3%83%83%E3%83%88%E3%81%AE%E3%83%9B%E3%83%83%E3%83%97%E3%83%95%E3%82%A3%E3%83%BC%E3%83%AB%E3%83%89%E3%83%A2%E3%83%87%E3%83%AB%E3%81%AB%E3%82%88%E3%82%8B%E7%B5%84%E3%81%BF%E5%90%88%E3%82%8F%E3%81%9B%E6%9C%80%E9%81%A9%E5%8C%96%E5%95%8F%E9%A1%8C%E3%82%92%E8%A7%A3%E3%81%8F%E3%83%AC%E3%82%B7%E3%83%94.ipynb\" target=\"_parent\"><img src=\"https://colab.research.google.com/assets/colab-badge.svg\" alt=\"Open In Colab\"/></a>"
      ]
    },
    {
      "cell_type": "code",
      "metadata": {
        "colab": {
          "base_uri": "https://localhost:8080/",
          "height": 267
        },
        "id": "AbYWO-J3ajr8",
        "outputId": "9ece4f40-04cd-44c0-f242-44e859f8ff32"
      },
      "source": [
        "import numpy as np\n",
        "import matplotlib.pyplot as plt\n",
        "\n",
        "#パラメーター\n",
        "N = 8  #都市数\n",
        "A = 10 #都市は一度のみ制約条件\n",
        "B = 10 #都市は同時に一度のみ\n",
        "D = 50 #距離\n",
        "\n",
        "#都市を作成\n",
        "np.random.seed(seed=3)\n",
        "dx = np.random.rand(N)\n",
        "dy = np.random.rand(N)\n",
        "\n",
        "#print(dx,dy)\n",
        "#都市の表示\n",
        "plt.scatter(dx,dy)\n",
        "plt.show()"
      ],
      "execution_count": 1,
      "outputs": [
        {
          "output_type": "display_data",
          "data": {
            "image/png": "[encoded data removed]",
            "text/plain": [
              "<Figure size 432x288 with 1 Axes>"
            ]
          },
          "metadata": {
            "tags": [],
            "needs_background": "light"
          }
        }
      ]
    },
    {
      "cell_type": "code",
      "metadata": {
        "id": "IpStGzEyan9L"
      },
      "source": [
        "#plt.pause(0.1)\n",
        "#ニューロンの作成\n",
        "#x = np.zeros((N , N))\n",
        "x = np.random.rand(N,N)#ニューロンの出力\n",
        "u = np.zeros((N,N))    #内部状態\n",
        "u_tmp = np.zeros((N,N))#内部状態一時保管\n",
        "b = np.zeros((N,N)) #バイアス\n",
        "dt = 0.1    #時刻刻み\n",
        "tau= 1    #時定数\n",
        "w = np.zeros((N,N,N,N)) #結合重み\n",
        "\n",
        "#順路表示\n",
        "def calc_disp():\n",
        "    for i in range(N):\n",
        "        for j in range(N):\n",
        "            if(u[i,j]>0.9):\n",
        "                x[i,j]=1\n",
        "            else:\n",
        "                x[i,j]=0\n",
        "\n",
        "    ans_x = np.zeros(N+1)\n",
        "    ans_y = np.zeros(N+1)\n",
        "    for i in range(N):\n",
        "        for j in range(N):\n",
        "            if(x[j,i]==1):\n",
        "                ans_x[i] = dx[j]\n",
        "                ans_y[i] = dy[j]\n",
        "                break\n",
        "    ans_x[N] = ans_x[0]\n",
        "    ans_y[N] = ans_y[0]\n",
        "    plt.plot(ans_x,ans_y)\n",
        "    plt.show()"
      ],
      "execution_count": 2,
      "outputs": []
    },
    {
      "cell_type": "code",
      "metadata": {
        "colab": {
          "base_uri": "https://localhost:8080/",
          "height": 555
        },
        "id": "r1UEi206ap_N",
        "outputId": "c9dc4c00-e1bb-4e87-e98a-cf3398df8e65"
      },
      "source": [
        "#クロネッカーのデルタ\n",
        "def delta(i,j): \n",
        "    if(i == j):\n",
        "        return 1\n",
        "    else:\n",
        "        return 0\n",
        "#距離計算    \n",
        "def dist(x,y):\n",
        "    if(x==y):\n",
        "        return 0\n",
        "    else:\n",
        "        d = np.sqrt(np.square(dx[x] - dx[y]) + np.square(dy[x] - dy[y]))\n",
        "        return d\n",
        "\n",
        "#活性化関数\n",
        "def f(x):\n",
        "    #return x\n",
        "    return 1.0 / (1.0 + np.exp(-0.1*x))\n",
        "    #return 0.5*(1 - np.tanh(x))\n",
        "\n",
        "#ニューロンの更新\n",
        "def update():\n",
        "    for i in range(N):\n",
        "        for j in range(N):\n",
        "            u_tmp = u[i,j]\n",
        "            u[i,j] = 0\n",
        "            for k in range(N):\n",
        "                for l in range(N):\n",
        "                    u[i,j] +=  w[i,j,k,l] * x[k,l]\n",
        "            u[i,j] += b[i,j]\n",
        "            u[i,j] = u[i,j]*dt + u_tmp/tau\n",
        "            x[i,j] = f(u[i,j])\n",
        "\n",
        "#重みとバイアスの定義\n",
        "for i in range(N):\n",
        "    for j in range(N):\n",
        "        for m in range(N):\n",
        "            for n in range(N):\n",
        "                w[i,j,m,n] = -A*delta(i,m)*(1-delta(j,n)) - B * delta(j,n)*(1-delta(i,m)) -D * dist(i,m)*(delta(m,j+1)+delta(n,j-1))\n",
        "        b[i,j] = A+B\n",
        "        \n",
        "#動作\n",
        "for i in range(1000):\n",
        "    update() #全ニューロンを一回ずつ更新\n",
        "    \n",
        "#結果の表示\n",
        "print(x)\n",
        "calc_disp()"
      ],
      "execution_count": 3,
      "outputs": [
        {
          "output_type": "stream",
          "text": [
            "/usr/local/lib/python3.7/dist-packages/ipykernel_launcher.py:18: RuntimeWarning: overflow encountered in exp\n"
          ],
          "name": "stderr"
        },
        {
          "output_type": "stream",
          "text": [
            "[[4.12726038e-133 6.99188924e-048 2.63910681e-211 9.43749893e-047\n",
            "  2.48897102e-127 3.77455246e-166 3.01986268e-174 1.00230796e-120]\n",
            " [1.00000000e+000 1.00000000e+000 3.37112280e-123 3.85052366e-082\n",
            "  2.00784255e-132 1.31932296e-186 1.10666669e-217 5.01315780e-178]\n",
            " [8.66909355e-202 2.11903805e-083 8.46334510e-275 1.73671090e-063\n",
            "  1.31919052e-193 1.89780191e-197 9.91986473e-150 7.03090416e-105]\n",
            " [1.07547996e-122 8.08948158e-082 9.99999108e-001 1.00000000e+000\n",
            "  6.14516246e-131 7.08703862e-183 1.11978914e-152 5.40695303e-136]\n",
            " [2.79691263e-074 4.89536230e-018 5.41603050e-192 6.95962365e-047\n",
            "  3.42408446e-121 2.95515094e-160 3.52066621e-191 9.71995638e-132]\n",
            " [2.78940578e-103 1.00747122e-052 5.89635455e-226 2.62114300e-090\n",
            "  7.89656733e-001 1.64771056e-145 1.63556663e-255 6.30660058e-188]\n",
            " [1.45534637e-262 4.28306572e-136 0.00000000e+000 2.87199493e-097\n",
            "  2.21314643e-273 1.18619745e-139 1.48437055e-039 1.00000000e+000]\n",
            " [2.05385830e-242 1.17543407e-136 9.68632692e-267 1.32587632e-096\n",
            "  2.33485648e-251 7.74931798e-166 1.00000000e+000 5.57601409e-001]]\n"
          ],
          "name": "stdout"
        },
        {
          "output_type": "display_data",
          "data": {
            "image/png": "[encoded data removed]",
            "text/plain": [
              "<Figure size 432x288 with 1 Axes>"
            ]
          },
          "metadata": {
            "tags": [],
            "needs_background": "light"
          }
        }
      ]
    },
    {
      "cell_type": "code",
      "metadata": {
        "id": "hzdwxSAUatGb"
      },
      "source": [
        ""
      ],
      "execution_count": null,
      "outputs": []
    }
  ]
}